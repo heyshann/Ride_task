{
 "cells": [
  {
   "cell_type": "code",
   "execution_count": 1,
   "id": "df50f280",
   "metadata": {},
   "outputs": [],
   "source": [
    "import pandas as pd\n",
    "import numpy as np\n",
    "import matplotlib.pyplot as plt\n",
    "import seaborn as sns\n",
    "%matplotlib inline\n"
   ]
  },
  {
   "cell_type": "code",
   "execution_count": 2,
   "id": "64a9ebc2",
   "metadata": {},
   "outputs": [
    {
     "data": {
      "text/html": [
       "<div>\n",
       "<style scoped>\n",
       "    .dataframe tbody tr th:only-of-type {\n",
       "        vertical-align: middle;\n",
       "    }\n",
       "\n",
       "    .dataframe tbody tr th {\n",
       "        vertical-align: top;\n",
       "    }\n",
       "\n",
       "    .dataframe thead th {\n",
       "        text-align: right;\n",
       "    }\n",
       "</style>\n",
       "<table border=\"1\" class=\"dataframe\">\n",
       "  <thead>\n",
       "    <tr style=\"text-align: right;\">\n",
       "      <th></th>\n",
       "      <th>Request id</th>\n",
       "      <th>Pickup point</th>\n",
       "      <th>Driver id</th>\n",
       "      <th>Status</th>\n",
       "      <th>Request timestamp</th>\n",
       "      <th>Drop timestamp</th>\n",
       "    </tr>\n",
       "  </thead>\n",
       "  <tbody>\n",
       "    <tr>\n",
       "      <th>0</th>\n",
       "      <td>1</td>\n",
       "      <td>Airport</td>\n",
       "      <td>285.0</td>\n",
       "      <td>Trip Completed</td>\n",
       "      <td>2016-07-11 00:20:00</td>\n",
       "      <td>2016-07-11 00:51:00</td>\n",
       "    </tr>\n",
       "    <tr>\n",
       "      <th>1</th>\n",
       "      <td>2</td>\n",
       "      <td>Airport</td>\n",
       "      <td>NaN</td>\n",
       "      <td>No Cars Available</td>\n",
       "      <td>2016-07-11 00:23:00</td>\n",
       "      <td>NaT</td>\n",
       "    </tr>\n",
       "    <tr>\n",
       "      <th>2</th>\n",
       "      <td>3</td>\n",
       "      <td>Airport</td>\n",
       "      <td>80.0</td>\n",
       "      <td>Trip Completed</td>\n",
       "      <td>2016-07-11 00:24:00</td>\n",
       "      <td>2016-07-11 01:31:00</td>\n",
       "    </tr>\n",
       "    <tr>\n",
       "      <th>3</th>\n",
       "      <td>4</td>\n",
       "      <td>City</td>\n",
       "      <td>NaN</td>\n",
       "      <td>No Cars Available</td>\n",
       "      <td>2016-07-11 00:37:00</td>\n",
       "      <td>NaT</td>\n",
       "    </tr>\n",
       "    <tr>\n",
       "      <th>4</th>\n",
       "      <td>5</td>\n",
       "      <td>Airport</td>\n",
       "      <td>264.0</td>\n",
       "      <td>Trip Completed</td>\n",
       "      <td>2016-07-11 00:36:00</td>\n",
       "      <td>2016-07-11 01:35:00</td>\n",
       "    </tr>\n",
       "  </tbody>\n",
       "</table>\n",
       "</div>"
      ],
      "text/plain": [
       "   Request id Pickup point  Driver id             Status   Request timestamp  \\\n",
       "0           1      Airport      285.0     Trip Completed 2016-07-11 00:20:00   \n",
       "1           2      Airport        NaN  No Cars Available 2016-07-11 00:23:00   \n",
       "2           3      Airport       80.0     Trip Completed 2016-07-11 00:24:00   \n",
       "3           4         City        NaN  No Cars Available 2016-07-11 00:37:00   \n",
       "4           5      Airport      264.0     Trip Completed 2016-07-11 00:36:00   \n",
       "\n",
       "       Drop timestamp  \n",
       "0 2016-07-11 00:51:00  \n",
       "1                 NaT  \n",
       "2 2016-07-11 01:31:00  \n",
       "3                 NaT  \n",
       "4 2016-07-11 01:35:00  "
      ]
     },
     "execution_count": 2,
     "metadata": {},
     "output_type": "execute_result"
    }
   ],
   "source": [
    "## Loading DataSet\n",
    "df=pd.read_csv('ride_data.csv',parse_dates=[4,5], dayfirst=True, na_values=\"NA\")\n",
    "df.head()"
   ]
  },
  {
   "cell_type": "code",
   "execution_count": 3,
   "id": "bedb6dc1",
   "metadata": {},
   "outputs": [
    {
     "data": {
      "text/plain": [
       "(6745, 6)"
      ]
     },
     "execution_count": 3,
     "metadata": {},
     "output_type": "execute_result"
    }
   ],
   "source": [
    "df.shape  ## shape of dataframe"
   ]
  },
  {
   "cell_type": "code",
   "execution_count": 4,
   "id": "3f55cb0d",
   "metadata": {},
   "outputs": [
    {
     "name": "stdout",
     "output_type": "stream",
     "text": [
      "<class 'pandas.core.frame.DataFrame'>\n",
      "RangeIndex: 6745 entries, 0 to 6744\n",
      "Data columns (total 6 columns):\n",
      " #   Column             Non-Null Count  Dtype         \n",
      "---  ------             --------------  -----         \n",
      " 0   Request id         6745 non-null   int64         \n",
      " 1   Pickup point       6745 non-null   object        \n",
      " 2   Driver id          4095 non-null   float64       \n",
      " 3   Status             6745 non-null   object        \n",
      " 4   Request timestamp  6745 non-null   datetime64[ns]\n",
      " 5   Drop timestamp     2831 non-null   datetime64[ns]\n",
      "dtypes: datetime64[ns](2), float64(1), int64(1), object(2)\n",
      "memory usage: 316.3+ KB\n"
     ]
    }
   ],
   "source": [
    "df.info()  ## to check all the data types"
   ]
  },
  {
   "cell_type": "code",
   "execution_count": 5,
   "id": "8af24cec",
   "metadata": {
    "scrolled": true
   },
   "outputs": [
    {
     "data": {
      "text/html": [
       "<div>\n",
       "<style scoped>\n",
       "    .dataframe tbody tr th:only-of-type {\n",
       "        vertical-align: middle;\n",
       "    }\n",
       "\n",
       "    .dataframe tbody tr th {\n",
       "        vertical-align: top;\n",
       "    }\n",
       "\n",
       "    .dataframe thead th {\n",
       "        text-align: right;\n",
       "    }\n",
       "</style>\n",
       "<table border=\"1\" class=\"dataframe\">\n",
       "  <thead>\n",
       "    <tr style=\"text-align: right;\">\n",
       "      <th></th>\n",
       "      <th>Request id</th>\n",
       "      <th>Pickup point</th>\n",
       "      <th>Driver id</th>\n",
       "      <th>Status</th>\n",
       "      <th>Request timestamp</th>\n",
       "      <th>Drop timestamp</th>\n",
       "    </tr>\n",
       "  </thead>\n",
       "  <tbody>\n",
       "    <tr>\n",
       "      <th>0</th>\n",
       "      <td>1</td>\n",
       "      <td>Airport</td>\n",
       "      <td>285.0</td>\n",
       "      <td>Trip Completed</td>\n",
       "      <td>2016-07-11 00:20:00</td>\n",
       "      <td>2016-07-11 00:51:00</td>\n",
       "    </tr>\n",
       "    <tr>\n",
       "      <th>1</th>\n",
       "      <td>2</td>\n",
       "      <td>Airport</td>\n",
       "      <td>NaN</td>\n",
       "      <td>No Cars Available</td>\n",
       "      <td>2016-07-11 00:23:00</td>\n",
       "      <td>NaT</td>\n",
       "    </tr>\n",
       "    <tr>\n",
       "      <th>2</th>\n",
       "      <td>3</td>\n",
       "      <td>Airport</td>\n",
       "      <td>80.0</td>\n",
       "      <td>Trip Completed</td>\n",
       "      <td>2016-07-11 00:24:00</td>\n",
       "      <td>2016-07-11 01:31:00</td>\n",
       "    </tr>\n",
       "    <tr>\n",
       "      <th>3</th>\n",
       "      <td>4</td>\n",
       "      <td>City</td>\n",
       "      <td>NaN</td>\n",
       "      <td>No Cars Available</td>\n",
       "      <td>2016-07-11 00:37:00</td>\n",
       "      <td>NaT</td>\n",
       "    </tr>\n",
       "    <tr>\n",
       "      <th>4</th>\n",
       "      <td>5</td>\n",
       "      <td>Airport</td>\n",
       "      <td>264.0</td>\n",
       "      <td>Trip Completed</td>\n",
       "      <td>2016-07-11 00:36:00</td>\n",
       "      <td>2016-07-11 01:35:00</td>\n",
       "    </tr>\n",
       "    <tr>\n",
       "      <th>...</th>\n",
       "      <td>...</td>\n",
       "      <td>...</td>\n",
       "      <td>...</td>\n",
       "      <td>...</td>\n",
       "      <td>...</td>\n",
       "      <td>...</td>\n",
       "    </tr>\n",
       "    <tr>\n",
       "      <th>6740</th>\n",
       "      <td>6762</td>\n",
       "      <td>Airport</td>\n",
       "      <td>267.0</td>\n",
       "      <td>Trip Completed</td>\n",
       "      <td>2016-07-15 00:07:00</td>\n",
       "      <td>2016-07-15 00:52:00</td>\n",
       "    </tr>\n",
       "    <tr>\n",
       "      <th>6741</th>\n",
       "      <td>6763</td>\n",
       "      <td>City</td>\n",
       "      <td>224.0</td>\n",
       "      <td>Trip Completed</td>\n",
       "      <td>2016-07-15 00:04:00</td>\n",
       "      <td>2016-07-15 01:06:00</td>\n",
       "    </tr>\n",
       "    <tr>\n",
       "      <th>6742</th>\n",
       "      <td>6764</td>\n",
       "      <td>City</td>\n",
       "      <td>243.0</td>\n",
       "      <td>Trip Completed</td>\n",
       "      <td>2016-07-15 00:06:00</td>\n",
       "      <td>2016-07-15 01:17:00</td>\n",
       "    </tr>\n",
       "    <tr>\n",
       "      <th>6743</th>\n",
       "      <td>6765</td>\n",
       "      <td>Airport</td>\n",
       "      <td>NaN</td>\n",
       "      <td>No Cars Available</td>\n",
       "      <td>2016-07-15 00:09:00</td>\n",
       "      <td>NaT</td>\n",
       "    </tr>\n",
       "    <tr>\n",
       "      <th>6744</th>\n",
       "      <td>6766</td>\n",
       "      <td>City</td>\n",
       "      <td>108.0</td>\n",
       "      <td>Trip Completed</td>\n",
       "      <td>2016-07-15 00:06:00</td>\n",
       "      <td>2016-07-15 01:10:00</td>\n",
       "    </tr>\n",
       "  </tbody>\n",
       "</table>\n",
       "<p>6745 rows × 6 columns</p>\n",
       "</div>"
      ],
      "text/plain": [
       "      Request id Pickup point  Driver id             Status  \\\n",
       "0              1      Airport      285.0     Trip Completed   \n",
       "1              2      Airport        NaN  No Cars Available   \n",
       "2              3      Airport       80.0     Trip Completed   \n",
       "3              4         City        NaN  No Cars Available   \n",
       "4              5      Airport      264.0     Trip Completed   \n",
       "...          ...          ...        ...                ...   \n",
       "6740        6762      Airport      267.0     Trip Completed   \n",
       "6741        6763         City      224.0     Trip Completed   \n",
       "6742        6764         City      243.0     Trip Completed   \n",
       "6743        6765      Airport        NaN  No Cars Available   \n",
       "6744        6766         City      108.0     Trip Completed   \n",
       "\n",
       "       Request timestamp      Drop timestamp  \n",
       "0    2016-07-11 00:20:00 2016-07-11 00:51:00  \n",
       "1    2016-07-11 00:23:00                 NaT  \n",
       "2    2016-07-11 00:24:00 2016-07-11 01:31:00  \n",
       "3    2016-07-11 00:37:00                 NaT  \n",
       "4    2016-07-11 00:36:00 2016-07-11 01:35:00  \n",
       "...                  ...                 ...  \n",
       "6740 2016-07-15 00:07:00 2016-07-15 00:52:00  \n",
       "6741 2016-07-15 00:04:00 2016-07-15 01:06:00  \n",
       "6742 2016-07-15 00:06:00 2016-07-15 01:17:00  \n",
       "6743 2016-07-15 00:09:00                 NaT  \n",
       "6744 2016-07-15 00:06:00 2016-07-15 01:10:00  \n",
       "\n",
       "[6745 rows x 6 columns]"
      ]
     },
     "execution_count": 5,
     "metadata": {},
     "output_type": "execute_result"
    }
   ],
   "source": [
    "df.drop_duplicates() ## dropping duplicate values"
   ]
  },
  {
   "cell_type": "code",
   "execution_count": 6,
   "id": "641c4e95",
   "metadata": {},
   "outputs": [],
   "source": [
    "df.drop(['Request id','Driver id'],axis=1,inplace=True)"
   ]
  },
  {
   "cell_type": "code",
   "execution_count": 7,
   "id": "d28fea46",
   "metadata": {},
   "outputs": [],
   "source": [
    "df[\"RequestHour\"] = df[\"Request timestamp\"].dt.hour\n"
   ]
  },
  {
   "cell_type": "code",
   "execution_count": 8,
   "id": "d8f09820",
   "metadata": {},
   "outputs": [
    {
     "data": {
      "text/html": [
       "<div>\n",
       "<style scoped>\n",
       "    .dataframe tbody tr th:only-of-type {\n",
       "        vertical-align: middle;\n",
       "    }\n",
       "\n",
       "    .dataframe tbody tr th {\n",
       "        vertical-align: top;\n",
       "    }\n",
       "\n",
       "    .dataframe thead th {\n",
       "        text-align: right;\n",
       "    }\n",
       "</style>\n",
       "<table border=\"1\" class=\"dataframe\">\n",
       "  <thead>\n",
       "    <tr style=\"text-align: right;\">\n",
       "      <th></th>\n",
       "      <th>Pickup point</th>\n",
       "      <th>Status</th>\n",
       "      <th>Request timestamp</th>\n",
       "      <th>Drop timestamp</th>\n",
       "      <th>RequestHour</th>\n",
       "    </tr>\n",
       "  </thead>\n",
       "  <tbody>\n",
       "    <tr>\n",
       "      <th>0</th>\n",
       "      <td>Airport</td>\n",
       "      <td>Trip Completed</td>\n",
       "      <td>2016-07-11 00:20:00</td>\n",
       "      <td>2016-07-11 00:51:00</td>\n",
       "      <td>0</td>\n",
       "    </tr>\n",
       "    <tr>\n",
       "      <th>1</th>\n",
       "      <td>Airport</td>\n",
       "      <td>No Cars Available</td>\n",
       "      <td>2016-07-11 00:23:00</td>\n",
       "      <td>NaT</td>\n",
       "      <td>0</td>\n",
       "    </tr>\n",
       "    <tr>\n",
       "      <th>2</th>\n",
       "      <td>Airport</td>\n",
       "      <td>Trip Completed</td>\n",
       "      <td>2016-07-11 00:24:00</td>\n",
       "      <td>2016-07-11 01:31:00</td>\n",
       "      <td>0</td>\n",
       "    </tr>\n",
       "    <tr>\n",
       "      <th>3</th>\n",
       "      <td>City</td>\n",
       "      <td>No Cars Available</td>\n",
       "      <td>2016-07-11 00:37:00</td>\n",
       "      <td>NaT</td>\n",
       "      <td>0</td>\n",
       "    </tr>\n",
       "    <tr>\n",
       "      <th>4</th>\n",
       "      <td>Airport</td>\n",
       "      <td>Trip Completed</td>\n",
       "      <td>2016-07-11 00:36:00</td>\n",
       "      <td>2016-07-11 01:35:00</td>\n",
       "      <td>0</td>\n",
       "    </tr>\n",
       "    <tr>\n",
       "      <th>...</th>\n",
       "      <td>...</td>\n",
       "      <td>...</td>\n",
       "      <td>...</td>\n",
       "      <td>...</td>\n",
       "      <td>...</td>\n",
       "    </tr>\n",
       "    <tr>\n",
       "      <th>6740</th>\n",
       "      <td>Airport</td>\n",
       "      <td>Trip Completed</td>\n",
       "      <td>2016-07-15 00:07:00</td>\n",
       "      <td>2016-07-15 00:52:00</td>\n",
       "      <td>0</td>\n",
       "    </tr>\n",
       "    <tr>\n",
       "      <th>6741</th>\n",
       "      <td>City</td>\n",
       "      <td>Trip Completed</td>\n",
       "      <td>2016-07-15 00:04:00</td>\n",
       "      <td>2016-07-15 01:06:00</td>\n",
       "      <td>0</td>\n",
       "    </tr>\n",
       "    <tr>\n",
       "      <th>6742</th>\n",
       "      <td>City</td>\n",
       "      <td>Trip Completed</td>\n",
       "      <td>2016-07-15 00:06:00</td>\n",
       "      <td>2016-07-15 01:17:00</td>\n",
       "      <td>0</td>\n",
       "    </tr>\n",
       "    <tr>\n",
       "      <th>6743</th>\n",
       "      <td>Airport</td>\n",
       "      <td>No Cars Available</td>\n",
       "      <td>2016-07-15 00:09:00</td>\n",
       "      <td>NaT</td>\n",
       "      <td>0</td>\n",
       "    </tr>\n",
       "    <tr>\n",
       "      <th>6744</th>\n",
       "      <td>City</td>\n",
       "      <td>Trip Completed</td>\n",
       "      <td>2016-07-15 00:06:00</td>\n",
       "      <td>2016-07-15 01:10:00</td>\n",
       "      <td>0</td>\n",
       "    </tr>\n",
       "  </tbody>\n",
       "</table>\n",
       "<p>6745 rows × 5 columns</p>\n",
       "</div>"
      ],
      "text/plain": [
       "     Pickup point             Status   Request timestamp      Drop timestamp  \\\n",
       "0         Airport     Trip Completed 2016-07-11 00:20:00 2016-07-11 00:51:00   \n",
       "1         Airport  No Cars Available 2016-07-11 00:23:00                 NaT   \n",
       "2         Airport     Trip Completed 2016-07-11 00:24:00 2016-07-11 01:31:00   \n",
       "3            City  No Cars Available 2016-07-11 00:37:00                 NaT   \n",
       "4         Airport     Trip Completed 2016-07-11 00:36:00 2016-07-11 01:35:00   \n",
       "...           ...                ...                 ...                 ...   \n",
       "6740      Airport     Trip Completed 2016-07-15 00:07:00 2016-07-15 00:52:00   \n",
       "6741         City     Trip Completed 2016-07-15 00:04:00 2016-07-15 01:06:00   \n",
       "6742         City     Trip Completed 2016-07-15 00:06:00 2016-07-15 01:17:00   \n",
       "6743      Airport  No Cars Available 2016-07-15 00:09:00                 NaT   \n",
       "6744         City     Trip Completed 2016-07-15 00:06:00 2016-07-15 01:10:00   \n",
       "\n",
       "      RequestHour  \n",
       "0               0  \n",
       "1               0  \n",
       "2               0  \n",
       "3               0  \n",
       "4               0  \n",
       "...           ...  \n",
       "6740            0  \n",
       "6741            0  \n",
       "6742            0  \n",
       "6743            0  \n",
       "6744            0  \n",
       "\n",
       "[6745 rows x 5 columns]"
      ]
     },
     "execution_count": 8,
     "metadata": {},
     "output_type": "execute_result"
    }
   ],
   "source": [
    "df"
   ]
  },
  {
   "cell_type": "code",
   "execution_count": 9,
   "id": "2c340cfb",
   "metadata": {},
   "outputs": [
    {
     "data": {
      "text/plain": [
       "array([ 0,  1,  2,  3,  4,  5,  6,  7,  8,  9, 10, 11, 12, 13, 14, 15, 16,\n",
       "       17, 18, 19, 20, 21, 22, 23], dtype=int64)"
      ]
     },
     "execution_count": 9,
     "metadata": {},
     "output_type": "execute_result"
    }
   ],
   "source": [
    "df['RequestHour'].unique()"
   ]
  },
  {
   "cell_type": "code",
   "execution_count": 10,
   "id": "6fa5c108",
   "metadata": {},
   "outputs": [],
   "source": [
    "df['Journey Time'] = df['Drop timestamp']-df['Request timestamp']"
   ]
  },
  {
   "cell_type": "code",
   "execution_count": 11,
   "id": "d9f77887",
   "metadata": {},
   "outputs": [
    {
     "data": {
      "text/html": [
       "<div>\n",
       "<style scoped>\n",
       "    .dataframe tbody tr th:only-of-type {\n",
       "        vertical-align: middle;\n",
       "    }\n",
       "\n",
       "    .dataframe tbody tr th {\n",
       "        vertical-align: top;\n",
       "    }\n",
       "\n",
       "    .dataframe thead th {\n",
       "        text-align: right;\n",
       "    }\n",
       "</style>\n",
       "<table border=\"1\" class=\"dataframe\">\n",
       "  <thead>\n",
       "    <tr style=\"text-align: right;\">\n",
       "      <th></th>\n",
       "      <th>Pickup point</th>\n",
       "      <th>Status</th>\n",
       "      <th>Request timestamp</th>\n",
       "      <th>Drop timestamp</th>\n",
       "      <th>RequestHour</th>\n",
       "      <th>Journey Time</th>\n",
       "    </tr>\n",
       "  </thead>\n",
       "  <tbody>\n",
       "    <tr>\n",
       "      <th>0</th>\n",
       "      <td>Airport</td>\n",
       "      <td>Trip Completed</td>\n",
       "      <td>2016-07-11 00:20:00</td>\n",
       "      <td>2016-07-11 00:51:00</td>\n",
       "      <td>0</td>\n",
       "      <td>0 days 00:31:00</td>\n",
       "    </tr>\n",
       "    <tr>\n",
       "      <th>1</th>\n",
       "      <td>Airport</td>\n",
       "      <td>No Cars Available</td>\n",
       "      <td>2016-07-11 00:23:00</td>\n",
       "      <td>NaT</td>\n",
       "      <td>0</td>\n",
       "      <td>NaT</td>\n",
       "    </tr>\n",
       "    <tr>\n",
       "      <th>2</th>\n",
       "      <td>Airport</td>\n",
       "      <td>Trip Completed</td>\n",
       "      <td>2016-07-11 00:24:00</td>\n",
       "      <td>2016-07-11 01:31:00</td>\n",
       "      <td>0</td>\n",
       "      <td>0 days 01:07:00</td>\n",
       "    </tr>\n",
       "    <tr>\n",
       "      <th>3</th>\n",
       "      <td>City</td>\n",
       "      <td>No Cars Available</td>\n",
       "      <td>2016-07-11 00:37:00</td>\n",
       "      <td>NaT</td>\n",
       "      <td>0</td>\n",
       "      <td>NaT</td>\n",
       "    </tr>\n",
       "    <tr>\n",
       "      <th>4</th>\n",
       "      <td>Airport</td>\n",
       "      <td>Trip Completed</td>\n",
       "      <td>2016-07-11 00:36:00</td>\n",
       "      <td>2016-07-11 01:35:00</td>\n",
       "      <td>0</td>\n",
       "      <td>0 days 00:59:00</td>\n",
       "    </tr>\n",
       "    <tr>\n",
       "      <th>...</th>\n",
       "      <td>...</td>\n",
       "      <td>...</td>\n",
       "      <td>...</td>\n",
       "      <td>...</td>\n",
       "      <td>...</td>\n",
       "      <td>...</td>\n",
       "    </tr>\n",
       "    <tr>\n",
       "      <th>6740</th>\n",
       "      <td>Airport</td>\n",
       "      <td>Trip Completed</td>\n",
       "      <td>2016-07-15 00:07:00</td>\n",
       "      <td>2016-07-15 00:52:00</td>\n",
       "      <td>0</td>\n",
       "      <td>0 days 00:45:00</td>\n",
       "    </tr>\n",
       "    <tr>\n",
       "      <th>6741</th>\n",
       "      <td>City</td>\n",
       "      <td>Trip Completed</td>\n",
       "      <td>2016-07-15 00:04:00</td>\n",
       "      <td>2016-07-15 01:06:00</td>\n",
       "      <td>0</td>\n",
       "      <td>0 days 01:02:00</td>\n",
       "    </tr>\n",
       "    <tr>\n",
       "      <th>6742</th>\n",
       "      <td>City</td>\n",
       "      <td>Trip Completed</td>\n",
       "      <td>2016-07-15 00:06:00</td>\n",
       "      <td>2016-07-15 01:17:00</td>\n",
       "      <td>0</td>\n",
       "      <td>0 days 01:11:00</td>\n",
       "    </tr>\n",
       "    <tr>\n",
       "      <th>6743</th>\n",
       "      <td>Airport</td>\n",
       "      <td>No Cars Available</td>\n",
       "      <td>2016-07-15 00:09:00</td>\n",
       "      <td>NaT</td>\n",
       "      <td>0</td>\n",
       "      <td>NaT</td>\n",
       "    </tr>\n",
       "    <tr>\n",
       "      <th>6744</th>\n",
       "      <td>City</td>\n",
       "      <td>Trip Completed</td>\n",
       "      <td>2016-07-15 00:06:00</td>\n",
       "      <td>2016-07-15 01:10:00</td>\n",
       "      <td>0</td>\n",
       "      <td>0 days 01:04:00</td>\n",
       "    </tr>\n",
       "  </tbody>\n",
       "</table>\n",
       "<p>6745 rows × 6 columns</p>\n",
       "</div>"
      ],
      "text/plain": [
       "     Pickup point             Status   Request timestamp      Drop timestamp  \\\n",
       "0         Airport     Trip Completed 2016-07-11 00:20:00 2016-07-11 00:51:00   \n",
       "1         Airport  No Cars Available 2016-07-11 00:23:00                 NaT   \n",
       "2         Airport     Trip Completed 2016-07-11 00:24:00 2016-07-11 01:31:00   \n",
       "3            City  No Cars Available 2016-07-11 00:37:00                 NaT   \n",
       "4         Airport     Trip Completed 2016-07-11 00:36:00 2016-07-11 01:35:00   \n",
       "...           ...                ...                 ...                 ...   \n",
       "6740      Airport     Trip Completed 2016-07-15 00:07:00 2016-07-15 00:52:00   \n",
       "6741         City     Trip Completed 2016-07-15 00:04:00 2016-07-15 01:06:00   \n",
       "6742         City     Trip Completed 2016-07-15 00:06:00 2016-07-15 01:17:00   \n",
       "6743      Airport  No Cars Available 2016-07-15 00:09:00                 NaT   \n",
       "6744         City     Trip Completed 2016-07-15 00:06:00 2016-07-15 01:10:00   \n",
       "\n",
       "      RequestHour    Journey Time  \n",
       "0               0 0 days 00:31:00  \n",
       "1               0             NaT  \n",
       "2               0 0 days 01:07:00  \n",
       "3               0             NaT  \n",
       "4               0 0 days 00:59:00  \n",
       "...           ...             ...  \n",
       "6740            0 0 days 00:45:00  \n",
       "6741            0 0 days 01:02:00  \n",
       "6742            0 0 days 01:11:00  \n",
       "6743            0             NaT  \n",
       "6744            0 0 days 01:04:00  \n",
       "\n",
       "[6745 rows x 6 columns]"
      ]
     },
     "execution_count": 11,
     "metadata": {},
     "output_type": "execute_result"
    }
   ],
   "source": [
    "df"
   ]
  },
  {
   "cell_type": "code",
   "execution_count": 12,
   "id": "ca587067",
   "metadata": {},
   "outputs": [],
   "source": [
    "df[\"Cab Availability\"] = df[\"Status\"].apply(lambda x: \"Yes\" if x==\"Trip Completed\" else \"No\")"
   ]
  },
  {
   "cell_type": "code",
   "execution_count": 13,
   "id": "4b75d406",
   "metadata": {},
   "outputs": [
    {
     "data": {
      "text/html": [
       "<div>\n",
       "<style scoped>\n",
       "    .dataframe tbody tr th:only-of-type {\n",
       "        vertical-align: middle;\n",
       "    }\n",
       "\n",
       "    .dataframe tbody tr th {\n",
       "        vertical-align: top;\n",
       "    }\n",
       "\n",
       "    .dataframe thead th {\n",
       "        text-align: right;\n",
       "    }\n",
       "</style>\n",
       "<table border=\"1\" class=\"dataframe\">\n",
       "  <thead>\n",
       "    <tr style=\"text-align: right;\">\n",
       "      <th></th>\n",
       "      <th>Pickup point</th>\n",
       "      <th>Status</th>\n",
       "      <th>Request timestamp</th>\n",
       "      <th>Drop timestamp</th>\n",
       "      <th>RequestHour</th>\n",
       "      <th>Journey Time</th>\n",
       "      <th>Cab Availability</th>\n",
       "    </tr>\n",
       "  </thead>\n",
       "  <tbody>\n",
       "    <tr>\n",
       "      <th>0</th>\n",
       "      <td>Airport</td>\n",
       "      <td>Trip Completed</td>\n",
       "      <td>2016-07-11 00:20:00</td>\n",
       "      <td>2016-07-11 00:51:00</td>\n",
       "      <td>0</td>\n",
       "      <td>0 days 00:31:00</td>\n",
       "      <td>Yes</td>\n",
       "    </tr>\n",
       "    <tr>\n",
       "      <th>1</th>\n",
       "      <td>Airport</td>\n",
       "      <td>No Cars Available</td>\n",
       "      <td>2016-07-11 00:23:00</td>\n",
       "      <td>NaT</td>\n",
       "      <td>0</td>\n",
       "      <td>NaT</td>\n",
       "      <td>No</td>\n",
       "    </tr>\n",
       "    <tr>\n",
       "      <th>2</th>\n",
       "      <td>Airport</td>\n",
       "      <td>Trip Completed</td>\n",
       "      <td>2016-07-11 00:24:00</td>\n",
       "      <td>2016-07-11 01:31:00</td>\n",
       "      <td>0</td>\n",
       "      <td>0 days 01:07:00</td>\n",
       "      <td>Yes</td>\n",
       "    </tr>\n",
       "    <tr>\n",
       "      <th>3</th>\n",
       "      <td>City</td>\n",
       "      <td>No Cars Available</td>\n",
       "      <td>2016-07-11 00:37:00</td>\n",
       "      <td>NaT</td>\n",
       "      <td>0</td>\n",
       "      <td>NaT</td>\n",
       "      <td>No</td>\n",
       "    </tr>\n",
       "    <tr>\n",
       "      <th>4</th>\n",
       "      <td>Airport</td>\n",
       "      <td>Trip Completed</td>\n",
       "      <td>2016-07-11 00:36:00</td>\n",
       "      <td>2016-07-11 01:35:00</td>\n",
       "      <td>0</td>\n",
       "      <td>0 days 00:59:00</td>\n",
       "      <td>Yes</td>\n",
       "    </tr>\n",
       "    <tr>\n",
       "      <th>...</th>\n",
       "      <td>...</td>\n",
       "      <td>...</td>\n",
       "      <td>...</td>\n",
       "      <td>...</td>\n",
       "      <td>...</td>\n",
       "      <td>...</td>\n",
       "      <td>...</td>\n",
       "    </tr>\n",
       "    <tr>\n",
       "      <th>6740</th>\n",
       "      <td>Airport</td>\n",
       "      <td>Trip Completed</td>\n",
       "      <td>2016-07-15 00:07:00</td>\n",
       "      <td>2016-07-15 00:52:00</td>\n",
       "      <td>0</td>\n",
       "      <td>0 days 00:45:00</td>\n",
       "      <td>Yes</td>\n",
       "    </tr>\n",
       "    <tr>\n",
       "      <th>6741</th>\n",
       "      <td>City</td>\n",
       "      <td>Trip Completed</td>\n",
       "      <td>2016-07-15 00:04:00</td>\n",
       "      <td>2016-07-15 01:06:00</td>\n",
       "      <td>0</td>\n",
       "      <td>0 days 01:02:00</td>\n",
       "      <td>Yes</td>\n",
       "    </tr>\n",
       "    <tr>\n",
       "      <th>6742</th>\n",
       "      <td>City</td>\n",
       "      <td>Trip Completed</td>\n",
       "      <td>2016-07-15 00:06:00</td>\n",
       "      <td>2016-07-15 01:17:00</td>\n",
       "      <td>0</td>\n",
       "      <td>0 days 01:11:00</td>\n",
       "      <td>Yes</td>\n",
       "    </tr>\n",
       "    <tr>\n",
       "      <th>6743</th>\n",
       "      <td>Airport</td>\n",
       "      <td>No Cars Available</td>\n",
       "      <td>2016-07-15 00:09:00</td>\n",
       "      <td>NaT</td>\n",
       "      <td>0</td>\n",
       "      <td>NaT</td>\n",
       "      <td>No</td>\n",
       "    </tr>\n",
       "    <tr>\n",
       "      <th>6744</th>\n",
       "      <td>City</td>\n",
       "      <td>Trip Completed</td>\n",
       "      <td>2016-07-15 00:06:00</td>\n",
       "      <td>2016-07-15 01:10:00</td>\n",
       "      <td>0</td>\n",
       "      <td>0 days 01:04:00</td>\n",
       "      <td>Yes</td>\n",
       "    </tr>\n",
       "  </tbody>\n",
       "</table>\n",
       "<p>6745 rows × 7 columns</p>\n",
       "</div>"
      ],
      "text/plain": [
       "     Pickup point             Status   Request timestamp      Drop timestamp  \\\n",
       "0         Airport     Trip Completed 2016-07-11 00:20:00 2016-07-11 00:51:00   \n",
       "1         Airport  No Cars Available 2016-07-11 00:23:00                 NaT   \n",
       "2         Airport     Trip Completed 2016-07-11 00:24:00 2016-07-11 01:31:00   \n",
       "3            City  No Cars Available 2016-07-11 00:37:00                 NaT   \n",
       "4         Airport     Trip Completed 2016-07-11 00:36:00 2016-07-11 01:35:00   \n",
       "...           ...                ...                 ...                 ...   \n",
       "6740      Airport     Trip Completed 2016-07-15 00:07:00 2016-07-15 00:52:00   \n",
       "6741         City     Trip Completed 2016-07-15 00:04:00 2016-07-15 01:06:00   \n",
       "6742         City     Trip Completed 2016-07-15 00:06:00 2016-07-15 01:17:00   \n",
       "6743      Airport  No Cars Available 2016-07-15 00:09:00                 NaT   \n",
       "6744         City     Trip Completed 2016-07-15 00:06:00 2016-07-15 01:10:00   \n",
       "\n",
       "      RequestHour    Journey Time Cab Availability  \n",
       "0               0 0 days 00:31:00              Yes  \n",
       "1               0             NaT               No  \n",
       "2               0 0 days 01:07:00              Yes  \n",
       "3               0             NaT               No  \n",
       "4               0 0 days 00:59:00              Yes  \n",
       "...           ...             ...              ...  \n",
       "6740            0 0 days 00:45:00              Yes  \n",
       "6741            0 0 days 01:02:00              Yes  \n",
       "6742            0 0 days 01:11:00              Yes  \n",
       "6743            0             NaT               No  \n",
       "6744            0 0 days 01:04:00              Yes  \n",
       "\n",
       "[6745 rows x 7 columns]"
      ]
     },
     "execution_count": 13,
     "metadata": {},
     "output_type": "execute_result"
    }
   ],
   "source": [
    "df"
   ]
  },
  {
   "cell_type": "markdown",
   "id": "498741b9",
   "metadata": {},
   "source": [
    "### dividing data into 4 slots\n",
    "-  Early Morning\n",
    "-  Morning\n",
    "-  Noon\n",
    "-  Night"
   ]
  },
  {
   "cell_type": "code",
   "execution_count": 14,
   "id": "99edf0e0",
   "metadata": {},
   "outputs": [],
   "source": [
    "df[\"TimeSlot\"] = df[\"RequestHour\"].apply(lambda x: \"Early Morning\" if x<=4 else (\"Morning\" if x<=9 else (\"Noon\" if x<=16 else (\"Evening\" if x<=21 else \"Night\"))))"
   ]
  },
  {
   "cell_type": "code",
   "execution_count": 15,
   "id": "d1775cde",
   "metadata": {},
   "outputs": [
    {
     "data": {
      "text/html": [
       "<div>\n",
       "<style scoped>\n",
       "    .dataframe tbody tr th:only-of-type {\n",
       "        vertical-align: middle;\n",
       "    }\n",
       "\n",
       "    .dataframe tbody tr th {\n",
       "        vertical-align: top;\n",
       "    }\n",
       "\n",
       "    .dataframe thead th {\n",
       "        text-align: right;\n",
       "    }\n",
       "</style>\n",
       "<table border=\"1\" class=\"dataframe\">\n",
       "  <thead>\n",
       "    <tr style=\"text-align: right;\">\n",
       "      <th></th>\n",
       "      <th>Pickup point</th>\n",
       "      <th>Status</th>\n",
       "      <th>Request timestamp</th>\n",
       "      <th>Drop timestamp</th>\n",
       "      <th>RequestHour</th>\n",
       "      <th>Journey Time</th>\n",
       "      <th>Cab Availability</th>\n",
       "      <th>TimeSlot</th>\n",
       "    </tr>\n",
       "  </thead>\n",
       "  <tbody>\n",
       "    <tr>\n",
       "      <th>0</th>\n",
       "      <td>Airport</td>\n",
       "      <td>Trip Completed</td>\n",
       "      <td>2016-07-11 00:20:00</td>\n",
       "      <td>2016-07-11 00:51:00</td>\n",
       "      <td>0</td>\n",
       "      <td>0 days 00:31:00</td>\n",
       "      <td>Yes</td>\n",
       "      <td>Early Morning</td>\n",
       "    </tr>\n",
       "    <tr>\n",
       "      <th>1</th>\n",
       "      <td>Airport</td>\n",
       "      <td>No Cars Available</td>\n",
       "      <td>2016-07-11 00:23:00</td>\n",
       "      <td>NaT</td>\n",
       "      <td>0</td>\n",
       "      <td>NaT</td>\n",
       "      <td>No</td>\n",
       "      <td>Early Morning</td>\n",
       "    </tr>\n",
       "    <tr>\n",
       "      <th>2</th>\n",
       "      <td>Airport</td>\n",
       "      <td>Trip Completed</td>\n",
       "      <td>2016-07-11 00:24:00</td>\n",
       "      <td>2016-07-11 01:31:00</td>\n",
       "      <td>0</td>\n",
       "      <td>0 days 01:07:00</td>\n",
       "      <td>Yes</td>\n",
       "      <td>Early Morning</td>\n",
       "    </tr>\n",
       "    <tr>\n",
       "      <th>3</th>\n",
       "      <td>City</td>\n",
       "      <td>No Cars Available</td>\n",
       "      <td>2016-07-11 00:37:00</td>\n",
       "      <td>NaT</td>\n",
       "      <td>0</td>\n",
       "      <td>NaT</td>\n",
       "      <td>No</td>\n",
       "      <td>Early Morning</td>\n",
       "    </tr>\n",
       "    <tr>\n",
       "      <th>4</th>\n",
       "      <td>Airport</td>\n",
       "      <td>Trip Completed</td>\n",
       "      <td>2016-07-11 00:36:00</td>\n",
       "      <td>2016-07-11 01:35:00</td>\n",
       "      <td>0</td>\n",
       "      <td>0 days 00:59:00</td>\n",
       "      <td>Yes</td>\n",
       "      <td>Early Morning</td>\n",
       "    </tr>\n",
       "    <tr>\n",
       "      <th>...</th>\n",
       "      <td>...</td>\n",
       "      <td>...</td>\n",
       "      <td>...</td>\n",
       "      <td>...</td>\n",
       "      <td>...</td>\n",
       "      <td>...</td>\n",
       "      <td>...</td>\n",
       "      <td>...</td>\n",
       "    </tr>\n",
       "    <tr>\n",
       "      <th>6740</th>\n",
       "      <td>Airport</td>\n",
       "      <td>Trip Completed</td>\n",
       "      <td>2016-07-15 00:07:00</td>\n",
       "      <td>2016-07-15 00:52:00</td>\n",
       "      <td>0</td>\n",
       "      <td>0 days 00:45:00</td>\n",
       "      <td>Yes</td>\n",
       "      <td>Early Morning</td>\n",
       "    </tr>\n",
       "    <tr>\n",
       "      <th>6741</th>\n",
       "      <td>City</td>\n",
       "      <td>Trip Completed</td>\n",
       "      <td>2016-07-15 00:04:00</td>\n",
       "      <td>2016-07-15 01:06:00</td>\n",
       "      <td>0</td>\n",
       "      <td>0 days 01:02:00</td>\n",
       "      <td>Yes</td>\n",
       "      <td>Early Morning</td>\n",
       "    </tr>\n",
       "    <tr>\n",
       "      <th>6742</th>\n",
       "      <td>City</td>\n",
       "      <td>Trip Completed</td>\n",
       "      <td>2016-07-15 00:06:00</td>\n",
       "      <td>2016-07-15 01:17:00</td>\n",
       "      <td>0</td>\n",
       "      <td>0 days 01:11:00</td>\n",
       "      <td>Yes</td>\n",
       "      <td>Early Morning</td>\n",
       "    </tr>\n",
       "    <tr>\n",
       "      <th>6743</th>\n",
       "      <td>Airport</td>\n",
       "      <td>No Cars Available</td>\n",
       "      <td>2016-07-15 00:09:00</td>\n",
       "      <td>NaT</td>\n",
       "      <td>0</td>\n",
       "      <td>NaT</td>\n",
       "      <td>No</td>\n",
       "      <td>Early Morning</td>\n",
       "    </tr>\n",
       "    <tr>\n",
       "      <th>6744</th>\n",
       "      <td>City</td>\n",
       "      <td>Trip Completed</td>\n",
       "      <td>2016-07-15 00:06:00</td>\n",
       "      <td>2016-07-15 01:10:00</td>\n",
       "      <td>0</td>\n",
       "      <td>0 days 01:04:00</td>\n",
       "      <td>Yes</td>\n",
       "      <td>Early Morning</td>\n",
       "    </tr>\n",
       "  </tbody>\n",
       "</table>\n",
       "<p>6745 rows × 8 columns</p>\n",
       "</div>"
      ],
      "text/plain": [
       "     Pickup point             Status   Request timestamp      Drop timestamp  \\\n",
       "0         Airport     Trip Completed 2016-07-11 00:20:00 2016-07-11 00:51:00   \n",
       "1         Airport  No Cars Available 2016-07-11 00:23:00                 NaT   \n",
       "2         Airport     Trip Completed 2016-07-11 00:24:00 2016-07-11 01:31:00   \n",
       "3            City  No Cars Available 2016-07-11 00:37:00                 NaT   \n",
       "4         Airport     Trip Completed 2016-07-11 00:36:00 2016-07-11 01:35:00   \n",
       "...           ...                ...                 ...                 ...   \n",
       "6740      Airport     Trip Completed 2016-07-15 00:07:00 2016-07-15 00:52:00   \n",
       "6741         City     Trip Completed 2016-07-15 00:04:00 2016-07-15 01:06:00   \n",
       "6742         City     Trip Completed 2016-07-15 00:06:00 2016-07-15 01:17:00   \n",
       "6743      Airport  No Cars Available 2016-07-15 00:09:00                 NaT   \n",
       "6744         City     Trip Completed 2016-07-15 00:06:00 2016-07-15 01:10:00   \n",
       "\n",
       "      RequestHour    Journey Time Cab Availability       TimeSlot  \n",
       "0               0 0 days 00:31:00              Yes  Early Morning  \n",
       "1               0             NaT               No  Early Morning  \n",
       "2               0 0 days 01:07:00              Yes  Early Morning  \n",
       "3               0             NaT               No  Early Morning  \n",
       "4               0 0 days 00:59:00              Yes  Early Morning  \n",
       "...           ...             ...              ...            ...  \n",
       "6740            0 0 days 00:45:00              Yes  Early Morning  \n",
       "6741            0 0 days 01:02:00              Yes  Early Morning  \n",
       "6742            0 0 days 01:11:00              Yes  Early Morning  \n",
       "6743            0             NaT               No  Early Morning  \n",
       "6744            0 0 days 01:04:00              Yes  Early Morning  \n",
       "\n",
       "[6745 rows x 8 columns]"
      ]
     },
     "execution_count": 15,
     "metadata": {},
     "output_type": "execute_result"
    }
   ],
   "source": [
    "df"
   ]
  },
  {
   "cell_type": "code",
   "execution_count": 16,
   "id": "bc430b99",
   "metadata": {},
   "outputs": [
    {
     "data": {
      "text/plain": [
       "array(['Early Morning', 'Morning', 'Noon', 'Evening', 'Night'],\n",
       "      dtype=object)"
      ]
     },
     "execution_count": 16,
     "metadata": {},
     "output_type": "execute_result"
    }
   ],
   "source": [
    "df['TimeSlot'].unique()"
   ]
  },
  {
   "cell_type": "code",
   "execution_count": 17,
   "id": "8e7bdc29",
   "metadata": {},
   "outputs": [
    {
     "data": {
      "text/html": [
       "<div>\n",
       "<style scoped>\n",
       "    .dataframe tbody tr th:only-of-type {\n",
       "        vertical-align: middle;\n",
       "    }\n",
       "\n",
       "    .dataframe tbody tr th {\n",
       "        vertical-align: top;\n",
       "    }\n",
       "\n",
       "    .dataframe thead th {\n",
       "        text-align: right;\n",
       "    }\n",
       "</style>\n",
       "<table border=\"1\" class=\"dataframe\">\n",
       "  <thead>\n",
       "    <tr style=\"text-align: right;\">\n",
       "      <th></th>\n",
       "      <th>Pickup point</th>\n",
       "      <th>Status</th>\n",
       "      <th>Request timestamp</th>\n",
       "      <th>Drop timestamp</th>\n",
       "      <th>RequestHour</th>\n",
       "      <th>Journey Time</th>\n",
       "      <th>Cab Availability</th>\n",
       "      <th>TimeSlot</th>\n",
       "    </tr>\n",
       "  </thead>\n",
       "  <tbody>\n",
       "    <tr>\n",
       "      <th>1</th>\n",
       "      <td>Airport</td>\n",
       "      <td>No Cars Available</td>\n",
       "      <td>2016-07-11 00:23:00</td>\n",
       "      <td>NaT</td>\n",
       "      <td>0</td>\n",
       "      <td>NaT</td>\n",
       "      <td>No</td>\n",
       "      <td>Early Morning</td>\n",
       "    </tr>\n",
       "    <tr>\n",
       "      <th>3</th>\n",
       "      <td>City</td>\n",
       "      <td>No Cars Available</td>\n",
       "      <td>2016-07-11 00:37:00</td>\n",
       "      <td>NaT</td>\n",
       "      <td>0</td>\n",
       "      <td>NaT</td>\n",
       "      <td>No</td>\n",
       "      <td>Early Morning</td>\n",
       "    </tr>\n",
       "    <tr>\n",
       "      <th>5</th>\n",
       "      <td>City</td>\n",
       "      <td>No Cars Available</td>\n",
       "      <td>2016-07-11 00:36:00</td>\n",
       "      <td>NaT</td>\n",
       "      <td>0</td>\n",
       "      <td>NaT</td>\n",
       "      <td>No</td>\n",
       "      <td>Early Morning</td>\n",
       "    </tr>\n",
       "    <tr>\n",
       "      <th>6</th>\n",
       "      <td>Airport</td>\n",
       "      <td>No Cars Available</td>\n",
       "      <td>2016-07-11 00:30:00</td>\n",
       "      <td>NaT</td>\n",
       "      <td>0</td>\n",
       "      <td>NaT</td>\n",
       "      <td>No</td>\n",
       "      <td>Early Morning</td>\n",
       "    </tr>\n",
       "    <tr>\n",
       "      <th>7</th>\n",
       "      <td>City</td>\n",
       "      <td>No Cars Available</td>\n",
       "      <td>2016-07-11 00:40:00</td>\n",
       "      <td>NaT</td>\n",
       "      <td>0</td>\n",
       "      <td>NaT</td>\n",
       "      <td>No</td>\n",
       "      <td>Early Morning</td>\n",
       "    </tr>\n",
       "  </tbody>\n",
       "</table>\n",
       "</div>"
      ],
      "text/plain": [
       "  Pickup point             Status   Request timestamp Drop timestamp  \\\n",
       "1      Airport  No Cars Available 2016-07-11 00:23:00            NaT   \n",
       "3         City  No Cars Available 2016-07-11 00:37:00            NaT   \n",
       "5         City  No Cars Available 2016-07-11 00:36:00            NaT   \n",
       "6      Airport  No Cars Available 2016-07-11 00:30:00            NaT   \n",
       "7         City  No Cars Available 2016-07-11 00:40:00            NaT   \n",
       "\n",
       "   RequestHour Journey Time Cab Availability       TimeSlot  \n",
       "1            0          NaT               No  Early Morning  \n",
       "3            0          NaT               No  Early Morning  \n",
       "5            0          NaT               No  Early Morning  \n",
       "6            0          NaT               No  Early Morning  \n",
       "7            0          NaT               No  Early Morning  "
      ]
     },
     "execution_count": 17,
     "metadata": {},
     "output_type": "execute_result"
    }
   ],
   "source": [
    "# separating on the basis of status\n",
    "problem = df[df['Status'] != 'Trip Completed']\n",
    "problem.head()"
   ]
  },
  {
   "cell_type": "code",
   "execution_count": 18,
   "id": "deebd51b",
   "metadata": {
    "scrolled": true
   },
   "outputs": [
    {
     "data": {
      "text/plain": [
       "array(['Airport', 'City'], dtype=object)"
      ]
     },
     "execution_count": 18,
     "metadata": {},
     "output_type": "execute_result"
    }
   ],
   "source": [
    "df['Pickup point'].unique()"
   ]
  },
  {
   "cell_type": "markdown",
   "id": "059a3910",
   "metadata": {},
   "source": [
    "# Visualization of the DataFrame"
   ]
  },
  {
   "cell_type": "code",
   "execution_count": 19,
   "id": "a69ce2f0",
   "metadata": {},
   "outputs": [],
   "source": [
    "pd.set_option('display.max_rows', 500)"
   ]
  },
  {
   "cell_type": "markdown",
   "id": "abbbcdaa",
   "metadata": {},
   "source": [
    "### showing number of people making request for a cab "
   ]
  },
  {
   "cell_type": "code",
   "execution_count": 20,
   "id": "ec893599",
   "metadata": {},
   "outputs": [
    {
     "data": {
      "text/plain": [
       "Pickup point\n",
       "Airport    3238\n",
       "City       3507\n",
       "dtype: int64"
      ]
     },
     "execution_count": 20,
     "metadata": {},
     "output_type": "execute_result"
    }
   ],
   "source": [
    "A=df.groupby(['Pickup point']).size()\n",
    "A"
   ]
  },
  {
   "cell_type": "code",
   "execution_count": 21,
   "id": "f49d6fff",
   "metadata": {},
   "outputs": [
    {
     "data": {
      "text/plain": [
       "Text(0.5, 1.0, 'Count of people travelling from Airport and from City')"
      ]
     },
     "execution_count": 21,
     "metadata": {},
     "output_type": "execute_result"
    },
    {
     "data": {
      "image/png": "[encoded data removed]",
      "text/plain": [
       "<Figure size 432x288 with 1 Axes>"
      ]
     },
     "metadata": {
      "needs_background": "light"
     },
     "output_type": "display_data"
    }
   ],
   "source": [
    "## showing number of people making request for a cab \n",
    "\n",
    "\n",
    "sns.countplot(x='Pickup point',data=df).set_title('Count of people travelling from Airport and from City')"
   ]
  },
  {
   "cell_type": "code",
   "execution_count": 22,
   "id": "9d225fca",
   "metadata": {
    "scrolled": true
   },
   "outputs": [
    {
     "data": {
      "text/plain": [
       "[Text(0.5, 1.0, 'Status Count')]"
      ]
     },
     "execution_count": 22,
     "metadata": {},
     "output_type": "execute_result"
    },
    {
     "data": {
      "image/png": "[encoded data removed]",
      "text/plain": [
       "<Figure size 432x288 with 1 Axes>"
      ]
     },
     "metadata": {
      "needs_background": "light"
     },
     "output_type": "display_data"
    }
   ],
   "source": [
    "## showing the status count of people\n",
    "\n",
    "\n",
    "sns.countplot(x='Status',hue='Pickup point',data=df).set(title='Status Count')"
   ]
  },
  {
   "cell_type": "markdown",
   "id": "a002fcf8",
   "metadata": {},
   "source": [
    "### Checking the status for each time slot"
   ]
  },
  {
   "cell_type": "code",
   "execution_count": 23,
   "id": "f3f378eb",
   "metadata": {},
   "outputs": [],
   "source": [
    "B=df.groupby(['RequestHour','Status']).size()\n"
   ]
  },
  {
   "cell_type": "code",
   "execution_count": 24,
   "id": "2d98000b",
   "metadata": {},
   "outputs": [
    {
     "data": {
      "text/plain": [
       "RequestHour  Status           \n",
       "0            Cancelled              3\n",
       "             No Cars Available     56\n",
       "             Trip Completed        40\n",
       "1            Cancelled              4\n",
       "             No Cars Available     56\n",
       "             Trip Completed        25\n",
       "2            Cancelled              5\n",
       "             No Cars Available     57\n",
       "             Trip Completed        37\n",
       "3            Cancelled              2\n",
       "             No Cars Available     56\n",
       "             Trip Completed        34\n",
       "4            Cancelled             51\n",
       "             No Cars Available     74\n",
       "             Trip Completed        78\n",
       "5            Cancelled            176\n",
       "             No Cars Available     84\n",
       "             Trip Completed       185\n",
       "6            Cancelled            145\n",
       "             No Cars Available     86\n",
       "             Trip Completed       167\n",
       "7            Cancelled            169\n",
       "             No Cars Available     63\n",
       "             Trip Completed       174\n",
       "8            Cancelled            178\n",
       "             No Cars Available     90\n",
       "             Trip Completed       155\n",
       "9            Cancelled            175\n",
       "             No Cars Available     83\n",
       "             Trip Completed       173\n",
       "10           Cancelled             62\n",
       "             No Cars Available     65\n",
       "             Trip Completed       116\n",
       "11           Cancelled             15\n",
       "             No Cars Available     41\n",
       "             Trip Completed       115\n",
       "12           Cancelled             19\n",
       "             No Cars Available     44\n",
       "             Trip Completed       121\n",
       "13           Cancelled             18\n",
       "             No Cars Available     53\n",
       "             Trip Completed        89\n",
       "14           Cancelled             11\n",
       "             No Cars Available     37\n",
       "             Trip Completed        88\n",
       "15           Cancelled             21\n",
       "             No Cars Available     48\n",
       "             Trip Completed       102\n",
       "16           Cancelled             22\n",
       "             No Cars Available     46\n",
       "             Trip Completed        91\n",
       "17           Cancelled             35\n",
       "             No Cars Available    232\n",
       "             Trip Completed       151\n",
       "18           Cancelled             24\n",
       "             No Cars Available    322\n",
       "             Trip Completed       164\n",
       "19           Cancelled             24\n",
       "             No Cars Available    283\n",
       "             Trip Completed       166\n",
       "20           Cancelled             41\n",
       "             No Cars Available    290\n",
       "             Trip Completed       161\n",
       "21           Cancelled             42\n",
       "             No Cars Available    265\n",
       "             Trip Completed       142\n",
       "22           Cancelled             12\n",
       "             No Cars Available    138\n",
       "             Trip Completed       154\n",
       "23           Cancelled             10\n",
       "             No Cars Available     81\n",
       "             Trip Completed       103\n",
       "dtype: int64"
      ]
     },
     "execution_count": 24,
     "metadata": {},
     "output_type": "execute_result"
    }
   ],
   "source": [
    "B"
   ]
  },
  {
   "cell_type": "code",
   "execution_count": 25,
   "id": "ef42055c",
   "metadata": {
    "scrolled": false
   },
   "outputs": [
    {
     "data": {
      "text/plain": [
       "Text(0.5, 1.0, 'Count of number of Requests by Time')"
      ]
     },
     "execution_count": 25,
     "metadata": {},
     "output_type": "execute_result"
    },
    {
     "data": {
      "image/png": "[encoded data removed]",
      "text/plain": [
       "<Figure size 1440x720 with 1 Axes>"
      ]
     },
     "metadata": {
      "needs_background": "light"
     },
     "output_type": "display_data"
    }
   ],
   "source": [
    "df.groupby(['RequestHour','Status']).size().unstack().plot(kind='bar', stacked=True,figsize=(20, 10))\n",
    "plt.title('Count of number of Requests by Time')"
   ]
  },
  {
   "cell_type": "markdown",
   "id": "af4e5c4c",
   "metadata": {},
   "source": [
    "### Calculating number of request time slotwise"
   ]
  },
  {
   "cell_type": "code",
   "execution_count": 26,
   "id": "c3e185ed",
   "metadata": {
    "scrolled": true
   },
   "outputs": [
    {
     "data": {
      "text/plain": [
       "Text(0, 0.5, '')"
      ]
     },
     "execution_count": 26,
     "metadata": {},
     "output_type": "execute_result"
    },
    {
     "data": {
      "image/png": "[encoded data removed]",
      "text/plain": [
       "<Figure size 1080x720 with 1 Axes>"
      ]
     },
     "metadata": {},
     "output_type": "display_data"
    }
   ],
   "source": [
    "plt.figure(figsize=(15,10))\n",
    "plt.subplot(1,2,1)\n",
    "df.groupby('TimeSlot').size().plot(kind='pie',stacked=True,table=True,subplots=True)\n",
    "plt.ylabel(\"\")"
   ]
  },
  {
   "cell_type": "code",
   "execution_count": 27,
   "id": "1f621e0d",
   "metadata": {},
   "outputs": [],
   "source": [
    "## this above pie chart shows most number of request are made either in morning or in evening"
   ]
  },
  {
   "cell_type": "markdown",
   "id": "98409a64",
   "metadata": {},
   "source": [
    "### Checking the pickup point where status was problematic"
   ]
  },
  {
   "cell_type": "code",
   "execution_count": 28,
   "id": "99b9939c",
   "metadata": {},
   "outputs": [
    {
     "data": {
      "text/plain": [
       "<AxesSubplot:xlabel='Pickup point', ylabel='count'>"
      ]
     },
     "execution_count": 28,
     "metadata": {},
     "output_type": "execute_result"
    },
    {
     "data": {
      "image/png": "[encoded data removed]",
      "text/plain": [
       "<Figure size 432x288 with 1 Axes>"
      ]
     },
     "metadata": {
      "needs_background": "light"
     },
     "output_type": "display_data"
    }
   ],
   "source": [
    "sns.countplot(x='Pickup point',hue='Status',data=problem)"
   ]
  },
  {
   "cell_type": "markdown",
   "id": "4bed2498",
   "metadata": {},
   "source": [
    "##### In this we can see that most of the requests with 'No cars available' status are at the Airport with very less 'Cancelled' requests but at the city, both the problematic requests are approximately equal in numbers\n",
    "##### cancellation is a bigger problem than the unavailability of cabs"
   ]
  },
  {
   "cell_type": "markdown",
   "id": "1d2aa391",
   "metadata": {},
   "source": [
    "### Most Problematic time slots "
   ]
  },
  {
   "cell_type": "code",
   "execution_count": 29,
   "id": "2ff545dd",
   "metadata": {},
   "outputs": [
    {
     "data": {
      "text/plain": [
       "Text(0, 0.5, '')"
      ]
     },
     "execution_count": 29,
     "metadata": {},
     "output_type": "execute_result"
    },
    {
     "data": {
      "image/png": "[encoded data removed]",
      "text/plain": [
       "<Figure size 720x504 with 1 Axes>"
      ]
     },
     "metadata": {},
     "output_type": "display_data"
    }
   ],
   "source": [
    "df[(df[\"Cab Availability\"]==\"No\")].groupby(['TimeSlot']).size().plot(kind=\"pie\",stacked=True,figsize=(10, 7),table=True,title=\"Problematic time slots\")\n",
    "plt.ylabel(\"\")"
   ]
  },
  {
   "cell_type": "markdown",
   "id": "3c086d74",
   "metadata": {},
   "source": [
    "##### most of the problem occurs in peak hour "
   ]
  },
  {
   "cell_type": "markdown",
   "id": "01ef9011",
   "metadata": {},
   "source": [
    "## Supply-Demand Gap"
   ]
  },
  {
   "cell_type": "markdown",
   "id": "6aa5ed2f",
   "metadata": {},
   "source": [
    "### Demand-Supply Gap from Airport to City"
   ]
  },
  {
   "cell_type": "code",
   "execution_count": 30,
   "id": "9c15274e",
   "metadata": {
    "scrolled": false
   },
   "outputs": [
    {
     "data": {
      "text/plain": [
       "Text(0.5, 1.0, 'Demand-Supply Gap from Airport to City')"
      ]
     },
     "execution_count": 30,
     "metadata": {},
     "output_type": "execute_result"
    },
    {
     "data": {
      "image/png": "[encoded data removed]",
      "text/plain": [
       "<Figure size 1080x504 with 1 Axes>"
      ]
     },
     "metadata": {
      "needs_background": "light"
     },
     "output_type": "display_data"
    }
   ],
   "source": [
    "df[(df['Pickup point']==\"Airport\")].groupby(['RequestHour','Status']).size().unstack().plot(kind='bar', stacked=True,figsize=(15, 7))\n",
    "plt.title('Demand-Supply Gap from Airport to City')"
   ]
  },
  {
   "cell_type": "markdown",
   "id": "f8ac7178",
   "metadata": {},
   "source": [
    "##### above graph Demand supply gap is more in the evening hours"
   ]
  },
  {
   "cell_type": "markdown",
   "id": "c16d713d",
   "metadata": {},
   "source": [
    "### Demand-Supply Gap from City to Airport"
   ]
  },
  {
   "cell_type": "code",
   "execution_count": 31,
   "id": "6d899e0f",
   "metadata": {},
   "outputs": [
    {
     "data": {
      "text/plain": [
       "Text(0.5, 1.0, 'Demand-Supply Gap from City to Airport')"
      ]
     },
     "execution_count": 31,
     "metadata": {},
     "output_type": "execute_result"
    },
    {
     "data": {
      "image/png": "[encoded data removed]",
      "text/plain": [
       "<Figure size 1440x720 with 1 Axes>"
      ]
     },
     "metadata": {
      "needs_background": "light"
     },
     "output_type": "display_data"
    }
   ],
   "source": [
    "df[(df['Pickup point']==\"City\")].groupby(['RequestHour','Status']).size().unstack().plot(kind='bar', stacked=True,figsize=(20, 10))\n",
    "plt.title('Demand-Supply Gap from City to Airport')"
   ]
  },
  {
   "cell_type": "markdown",
   "id": "6b93859b",
   "metadata": {},
   "source": [
    "##### above graph Demand supply gap is more in the morning hours"
   ]
  },
  {
   "cell_type": "markdown",
   "id": "5e9e7db1",
   "metadata": {},
   "source": [
    "### Time slots where highest Gap exists"
   ]
  },
  {
   "cell_type": "code",
   "execution_count": 32,
   "id": "ae8d07fd",
   "metadata": {},
   "outputs": [
    {
     "data": {
      "text/plain": [
       "Text(0.5, 1.0, 'Time slots where highest Gap exists')"
      ]
     },
     "execution_count": 32,
     "metadata": {},
     "output_type": "execute_result"
    },
    {
     "data": {
      "image/png": "[encoded data removed]",
      "text/plain": [
       "<Figure size 1440x720 with 1 Axes>"
      ]
     },
     "metadata": {
      "needs_background": "light"
     },
     "output_type": "display_data"
    }
   ],
   "source": [
    "\n",
    "df.groupby(['TimeSlot','Cab Availability']).size().unstack().plot(kind='bar', stacked=True,figsize=(20, 10))\n",
    "plt.title('Time slots where highest Gap exists')"
   ]
  },
  {
   "cell_type": "markdown",
   "id": "e535408b",
   "metadata": {},
   "source": [
    "# Conclusion"
   ]
  },
  {
   "cell_type": "markdown",
   "id": "ec1eb36e",
   "metadata": {},
   "source": [
    "- Problematic requests are almost equal at both the pickup locations.\n",
    "- Everyday, there are equal amount of requests made between the two pickup points.\n",
    "- Majority of the requests made at night are from Airport and maximum of the times, there are \n",
    "  No cars Available\n",
    "- Most of the requests made in the morning time are from City and majority of them gets  Cancelled"
   ]
  },
  {
   "cell_type": "markdown",
   "id": "19560efb",
   "metadata": {},
   "source": [
    "# Recommendation"
   ]
  },
  {
   "cell_type": "markdown",
   "id": "c0984db6",
   "metadata": {},
   "source": [
    "- Awarding incentive for waiting time will encourage the drivers to wait at Airport\n",
    "- A few cabs could be placed in Airports proactively\n",
    "- Pre Bookings can be done\n",
    "- Fair should be dynamic"
   ]
  },
  {
   "cell_type": "code",
   "execution_count": null,
   "id": "11b34458",
   "metadata": {},
   "outputs": [],
   "source": []
  }
 ],
 "metadata": {
  "kernelspec": {
   "display_name": "Python 3 (ipykernel)",
   "language": "python",
   "name": "python3"
  },
  "language_info": {
   "codemirror_mode": {
    "name": "ipython",
    "version": 3
   },
   "file_extension": ".py",
   "mimetype": "text/x-python",
   "name": "python",
   "nbconvert_exporter": "python",
   "pygments_lexer": "ipython3",
   "version": "3.10.0"
  }
 },
 "nbformat": 4,
 "nbformat_minor": 5
}
